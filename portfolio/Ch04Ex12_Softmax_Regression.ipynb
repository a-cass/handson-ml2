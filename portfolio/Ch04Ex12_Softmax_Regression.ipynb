{
 "cells": [
  {
   "cell_type": "markdown",
   "metadata": {},
   "source": [
    "# Softmax Regression (without Scikit-Learn)\n",
    "This notebook provides a solution to Chapter 4 Exercise 12:\n",
    ">*Implement Batch Gradient Descent with early stopping for Softmax Regression (without using Scikit-Learn)*\n",
    "\n",
    "For this task I will use the [IRIS](https://archive.ics.uci.edu/ml/datasets/iris) that is packaged with Scikit-Learn and accessible via the `datasets` module."
   ]
  },
  {
   "cell_type": "code",
   "execution_count": 129,
   "metadata": {},
   "outputs": [],
   "source": [
    "import numpy as np\n",
    "from sklearn.datasets import load_iris\n",
    "import matplotlib.pyplot as plt"
   ]
  },
  {
   "cell_type": "code",
   "execution_count": 3,
   "metadata": {},
   "outputs": [
    {
     "data": {
      "text/plain": [
       "dict_keys(['data', 'target', 'frame', 'target_names', 'DESCR', 'feature_names', 'filename'])"
      ]
     },
     "execution_count": 3,
     "metadata": {},
     "output_type": "execute_result"
    }
   ],
   "source": [
    "iris = load_iris()\n",
    "iris.keys()"
   ]
  },
  {
   "cell_type": "code",
   "execution_count": 103,
   "metadata": {},
   "outputs": [
    {
     "data": {
      "text/plain": [
       "(150, 4)"
      ]
     },
     "execution_count": 103,
     "metadata": {},
     "output_type": "execute_result"
    }
   ],
   "source": [
    "iris['data'].shape # 150 samples with 4 features"
   ]
  },
  {
   "cell_type": "code",
   "execution_count": 5,
   "metadata": {},
   "outputs": [
    {
     "data": {
      "text/plain": [
       "['sepal length (cm)',\n",
       " 'sepal width (cm)',\n",
       " 'petal length (cm)',\n",
       " 'petal width (cm)']"
      ]
     },
     "execution_count": 5,
     "metadata": {},
     "output_type": "execute_result"
    }
   ],
   "source": [
    "iris['feature_names']"
   ]
  },
  {
   "cell_type": "markdown",
   "metadata": {},
   "source": [
    "In order to allow me to compare my results to those in the corresponding chapter notebook, I will focus on the `petal length (cm)` and `petal_width (cm)` features."
   ]
  },
  {
   "cell_type": "markdown",
   "metadata": {},
   "source": [
    "## Data Preparation"
   ]
  },
  {
   "cell_type": "code",
   "execution_count": 6,
   "metadata": {},
   "outputs": [
    {
     "data": {
      "text/plain": [
       "[2, 3]"
      ]
     },
     "execution_count": 6,
     "metadata": {},
     "output_type": "execute_result"
    }
   ],
   "source": [
    "feats = ['petal length (cm)', 'petal width (cm)']\n",
    "feats_idx = [iris['feature_names'].index(ft) for ft in feats]\n",
    "feats_idx"
   ]
  },
  {
   "cell_type": "code",
   "execution_count": 7,
   "metadata": {},
   "outputs": [],
   "source": [
    "X = iris['data'][:,feats_idx]\n",
    "y = iris['target']\n",
    "\n",
    "# Need to add x0 = 1 for the bias term - note that the Logistic Regression\n",
    "# models in Scikit-Learn will automatically add this by default\n",
    "X_b = np.c_[np.ones((X.shape[0],1)),X]"
   ]
  },
  {
   "cell_type": "code",
   "execution_count": 8,
   "metadata": {},
   "outputs": [
    {
     "data": {
      "text/plain": [
       "((150, 3), (150,))"
      ]
     },
     "execution_count": 8,
     "metadata": {},
     "output_type": "execute_result"
    }
   ],
   "source": [
    "X_b.shape, y.shape"
   ]
  },
  {
   "cell_type": "code",
   "execution_count": 9,
   "metadata": {},
   "outputs": [],
   "source": [
    "# m  = number of samples\n",
    "# n = number of features(use X as we dont want to count the bias term)\n",
    "m, n = X.shape"
   ]
  },
  {
   "cell_type": "markdown",
   "metadata": {},
   "source": [
    "### Train/Test split"
   ]
  },
  {
   "cell_type": "code",
   "execution_count": 10,
   "metadata": {},
   "outputs": [
    {
     "name": "stdout",
     "output_type": "stream",
     "text": [
      "Number of training samples: 90\n",
      "Number of validation samples: 30\n",
      "Number of test samples: 30\n",
      "(90, 3)\n",
      "(90,)\n",
      "(30, 3)\n",
      "(30,)\n",
      "(30, 3)\n",
      "(30,)\n"
     ]
    }
   ],
   "source": [
    "ratio_valid = 0.2\n",
    "ratio_test = 0.2\n",
    "\n",
    "valid_count = int(m * ratio_valid)\n",
    "test_count = int(m * ratio_test)\n",
    "train_count = m - valid_count - test_count\n",
    "\n",
    "print(f'Number of training samples: {train_count}')\n",
    "print(f'Number of validation samples: {valid_count}')\n",
    "print(f'Number of test samples: {test_count}')\n",
    "\n",
    "# set random seed to same as exercise solution\n",
    "np.random.seed(2042)\n",
    "perms = np.random.permutation(m)\n",
    "\n",
    "X_train = X_b[perms[:train_count]]\n",
    "y_train = y[perms[:train_count]]\n",
    "\n",
    "X_valid = X_b[perms[train_count:train_count + valid_count]]\n",
    "y_valid = y[perms[train_count:train_count + valid_count]]\n",
    "\n",
    "X_test = X_b[perms[train_count + valid_count:]]\n",
    "y_test = y[perms[train_count + valid_count:]]\n",
    "\n",
    "print(X_train.shape, y_train.shape,\n",
    "      X_valid.shape, y_valid.shape,\n",
    "      X_test.shape, y_test.shape,\n",
    "      sep='\\n')"
   ]
  },
  {
   "cell_type": "markdown",
   "metadata": {},
   "source": [
    "### Class Probabilities"
   ]
  },
  {
   "cell_type": "code",
   "execution_count": 11,
   "metadata": {},
   "outputs": [
    {
     "data": {
      "text/plain": [
       "array([[1., 0., 0.],\n",
       "       [0., 1., 0.],\n",
       "       [0., 0., 1.],\n",
       "       [0., 1., 0.],\n",
       "       [0., 1., 0.],\n",
       "       [1., 0., 0.],\n",
       "       [0., 1., 0.],\n",
       "       [0., 1., 0.],\n",
       "       [0., 1., 0.],\n",
       "       [1., 0., 0.]])"
      ]
     },
     "execution_count": 11,
     "metadata": {},
     "output_type": "execute_result"
    }
   ],
   "source": [
    "# For multiclass classifications we need to convert the single target\n",
    "# class integer into an array of values indictating whether or not\n",
    "# the sample belongs to each class - 0/1.\n",
    "# This is similar to One Hot Encoding!\n",
    "# The result is a 1 x num_classes vector for each record and therefore\n",
    "# an m x num_classes matrix.\n",
    "\n",
    "def to_one_hot(y):\n",
    "    n_classes = y.max() + 1 # only works if the provided y captures all classes\n",
    "    m = len(y)\n",
    "    Y_one_hot = np.zeros((m, n_classes))\n",
    "    \n",
    "    # indexes are determined pairwise i.e. [sample_1,target_1] = 1\n",
    "    # therefore this has the effect of, for each sample, setting\n",
    "    # a value of 1 in the one hot column where the index = target class y\n",
    "    # e.g.\n",
    "    # sample_1 = row 0, target_1 = y[0] = 2\n",
    "    # Y_one_hot[0,2] = 1\n",
    "    \n",
    "    Y_one_hot[np.arange(m), y] = 1\n",
    "    return Y_one_hot\n",
    "\n",
    "to_one_hot(y_train[:10])"
   ]
  },
  {
   "cell_type": "code",
   "execution_count": 12,
   "metadata": {},
   "outputs": [
    {
     "data": {
      "text/plain": [
       "((90, 3), (30, 3), (30, 3))"
      ]
     },
     "execution_count": 12,
     "metadata": {},
     "output_type": "execute_result"
    }
   ],
   "source": [
    "# Now create the one hot target vectors for the training, validation,\n",
    "# and test data\n",
    "y_train_oh = to_one_hot(y_train)\n",
    "y_valid_oh = to_one_hot(y_valid)\n",
    "y_test_oh = to_one_hot(y_test)\n",
    "\n",
    "# Check shapes are as expected\n",
    "y_train_oh.shape, y_valid_oh.shape, y_test_oh.shape"
   ]
  },
  {
   "cell_type": "markdown",
   "metadata": {},
   "source": [
    "## Training the Model\n",
    "\n",
    "First let's revisit the key functions we need to train the model:\n",
    "\n",
    "Softmax function:\n",
    "$\\hat{p}_k = \\sigma\\left(\\mathbf{s}(\\mathbf{x})\\right)_k = \\dfrac{\\exp\\left(s_k(\\mathbf{x})\\right)}{\\sum\\limits_{j=1}^{K}{\\exp\\left(s_j(\\mathbf{x})\\right)}}$\n",
    "\n",
    "Cross Entropy cost function:\n",
    "$J(\\mathbf{\\Theta}) =\n",
    "- \\dfrac{1}{m}\\sum\\limits_{i=1}^{m}\\sum\\limits_{k=1}^{K}{y_k^{(i)}\\log\\left(\\hat{p}_k^{(i)}\\right)}$\n",
    "\n",
    "Derivitives wrt. theta:\n",
    "$\\nabla_{\\mathbf{\\theta}^{(k)}} \\, J(\\mathbf{\\Theta}) = \\dfrac{1}{m} \\sum\\limits_{i=1}^{m}{ \\left ( \\hat{p}^{(i)}_k - y_k^{(i)} \\right ) \\mathbf{x}^{(i)}}$\n",
    "\n",
    "Note that in the case of this multi class problem, each class has its own weight vector, forming a weight matrix $\\mathbf{\\Theta}$."
   ]
  },
  {
   "cell_type": "code",
   "execution_count": 75,
   "metadata": {},
   "outputs": [],
   "source": [
    "# Write softmax function which outputs the probability that an instance\n",
    "# belongs to each class.\n",
    "def softmax(logits):\n",
    "    exps = np.exp(logits)\n",
    "    \n",
    "    # The next step calculates the sums across each column i.e.\n",
    "    # the sum across the classes per training sample x.\n",
    "    # Keepdims ensure that the rows dimesion is kept which enables \n",
    "    # the subsequent division step, diving each of the elements in\n",
    "    # each row by the sum of the row.\n",
    "    exp_sums = np.sum(exps, axis=1, keepdims=True)\n",
    "    \n",
    "    return exps / exp_sums"
   ]
  },
  {
   "cell_type": "code",
   "execution_count": 77,
   "metadata": {},
   "outputs": [
    {
     "name": "stdout",
     "output_type": "stream",
     "text": [
      "3\n",
      "3\n"
     ]
    }
   ],
   "source": [
    "# Determine Theta shape\n",
    "# The weights of each class are column vectors\n",
    "num_features = X_train.shape[1] # Bias(x0), x1, x2\n",
    "num_classes = len(np.unique(y_train)) # number of unique values in the original training labels\n",
    "\n",
    "print(num_features)\n",
    "print(num_classes)"
   ]
  },
  {
   "cell_type": "code",
   "execution_count": 154,
   "metadata": {},
   "outputs": [
    {
     "name": "stdout",
     "output_type": "stream",
     "text": [
      "0 5.014814575490118\n",
      "500 0.6811275626429963\n",
      "1000 0.5968843868029615\n",
      "1500 0.5410632870346399\n",
      "2000 0.5009884908986575\n",
      "2500 0.4704027317886758\n",
      "3000 0.4459770748939527\n",
      "3500 0.4258008727380702\n",
      "4000 0.40870186227996946\n",
      "4500 0.3939192362234628\n",
      "5000 0.380935602709643\n"
     ]
    }
   ],
   "source": [
    "# Train the model!\n",
    "eta = 0.01 # Learning rate\n",
    "n_iterations = 5001\n",
    "m = len(X_train)\n",
    "\n",
    "# A small value epsilon will be added to the softmax probabilites \n",
    "# since a probability of 0 would lead to log(prob) = NaN.\n",
    "# This way we can avoid NaN values\n",
    "epsilon = 1e-7 \n",
    "\n",
    "# No seed set here so Theta will be different each run\n",
    "Theta = np.random.randn(num_features, num_classes)\n",
    "\n",
    "for iteration in range(n_iterations):\n",
    "    logits = X_train.dot(Theta) # aka Softmax Score S(X) \n",
    "    y_proba = softmax(logits)\n",
    "    loss = -np.mean(np.sum(y_train_oh * np.log(y_proba + epsilon), axis=1)) # Cross Entropy\n",
    "    error = y_proba - y_train_oh # used for Gradients i.e. models probabilities - actual probabilities\n",
    "    if iteration % 500 == 0:\n",
    "        print(iteration, loss)\n",
    "    gradients = 1/m * X_train.T.dot(error)\n",
    "    Theta = Theta - eta * gradients"
   ]
  },
  {
   "cell_type": "code",
   "execution_count": 155,
   "metadata": {},
   "outputs": [
    {
     "data": {
      "text/plain": [
       "array([[ 2.46836275, -1.06170359, -3.68946681],\n",
       "       [ 0.04314251,  0.70028679,  0.6751566 ],\n",
       "       [-2.65819996, -0.31828919,  1.45534173]])"
      ]
     },
     "execution_count": 155,
     "metadata": {},
     "output_type": "execute_result"
    }
   ],
   "source": [
    "# Optimum Theta\n",
    "Theta"
   ]
  },
  {
   "cell_type": "markdown",
   "metadata": {},
   "source": [
    "## Evaluating the Model"
   ]
  },
  {
   "cell_type": "code",
   "execution_count": 158,
   "metadata": {},
   "outputs": [
    {
     "data": {
      "text/plain": [
       "0.9666666666666667"
      ]
     },
     "execution_count": 158,
     "metadata": {},
     "output_type": "execute_result"
    }
   ],
   "source": [
    "# Predictions\n",
    "logits = X_valid.dot(Theta)\n",
    "Y_proba = softmax(logits)\n",
    "y_predict = np.argmax(Y_proba, axis=1) # finds the index of the maxiumum value (probability) in each row\n",
    "\n",
    "accuracy_score = np.mean(y_predict == y_valid) # simple proportion of correct predictions\n",
    "accuracy_score"
   ]
  },
  {
   "cell_type": "markdown",
   "metadata": {},
   "source": [
    "## Adding L2 Regularisation"
   ]
  },
  {
   "cell_type": "code",
   "execution_count": 159,
   "metadata": {},
   "outputs": [
    {
     "name": "stdout",
     "output_type": "stream",
     "text": [
      "0 5.058737217923177\n",
      "500 0.5373256024848877\n",
      "1000 0.5045948352969146\n",
      "1500 0.4950337666346724\n",
      "2000 0.49143507824842264\n",
      "2500 0.48995772120134584\n",
      "3000 0.4893245426953957\n",
      "3500 0.4890464302497133\n",
      "4000 0.48892243473590447\n",
      "4500 0.4888666261358315\n",
      "5000 0.48884135296647085\n"
     ]
    }
   ],
   "source": [
    "eta = 0.1 # Also increased learning rate\n",
    "n_iterations = 5001\n",
    "m = len(X_train)\n",
    "epsilon = 1e-7\n",
    "alpha = 0.1  # regularization hyperparameter\n",
    "\n",
    "# No seed set here so Theta will be different each run\n",
    "Theta = np.random.randn(num_features, num_classes)\n",
    "\n",
    "for iteration in range(n_iterations):\n",
    "    logits = X_train.dot(Theta)\n",
    "    Y_proba = softmax(logits)\n",
    "    xentropy_loss = -np.mean(np.sum(y_train_oh * np.log(Y_proba + epsilon), axis=1))\n",
    "    l2_loss = 1/2 * np.sum(np.square(Theta[1:])) # bias weights excluded\n",
    "    loss = xentropy_loss + alpha * l2_loss\n",
    "    error = Y_proba - y_train_oh\n",
    "    if iteration % 500 == 0:\n",
    "        print(iteration, loss)\n",
    "    \n",
    "    # Update the gradient vector by adding alpha * weights - ensuring bias weights\n",
    "    # i.e. theta row 1 are set to 0\n",
    "    gradients = 1/m * X_train.T.dot(error) + np.r_[np.zeros([1, num_classes]), alpha * Theta[1:]]\n",
    "    Theta = Theta - eta * gradients"
   ]
  },
  {
   "cell_type": "code",
   "execution_count": 162,
   "metadata": {},
   "outputs": [
    {
     "data": {
      "text/plain": [
       "1.0"
      ]
     },
     "execution_count": 162,
     "metadata": {},
     "output_type": "execute_result"
    }
   ],
   "source": [
    "logits = X_valid.dot(Theta)\n",
    "Y_proba = softmax(logits)\n",
    "y_predict = np.argmax(Y_proba, axis=1)\n",
    "\n",
    "accuracy_score = np.mean(y_predict == y_valid)\n",
    "accuracy_score"
   ]
  },
  {
   "cell_type": "markdown",
   "metadata": {},
   "source": [
    "This shows a greater loss than previously (model is less flexible due to regularisation) but a better ability to generalise (No overfitting training data)!\n",
    "\n",
    "However, the train/validation sets are relatively small - it could just be luck that the model predicted everything correct on the validation set. Cross validation should provide a better evaluation metric."
   ]
  },
  {
   "cell_type": "markdown",
   "metadata": {},
   "source": [
    "## Early Stopping\n",
    "To implement early stopping we need to evaluate the model at each epoch and stop when the validation metric starts to deteriorate. Here I use the loss."
   ]
  },
  {
   "cell_type": "code",
   "execution_count": 163,
   "metadata": {},
   "outputs": [
    {
     "name": "stdout",
     "output_type": "stream",
     "text": [
      "0 1.9370173788894922\n",
      "500 0.5654559400038801\n",
      "1000 0.5415210310983852\n",
      "1500 0.5349845306553542\n",
      "2000 0.5330329815281787\n",
      "2500 0.5325687260194255\n",
      "2689 0.5325456297360383\n",
      "2690 0.5325456300313476 early stopping!\n"
     ]
    }
   ],
   "source": [
    "eta = 0.1 \n",
    "n_iterations = 5001\n",
    "m = len(X_train)\n",
    "epsilon = 1e-7\n",
    "alpha = 0.1\n",
    "best_loss = np.inf\n",
    "\n",
    "# No seed set here so Theta will be different each run\n",
    "Theta = np.random.randn(num_features, num_classes)\n",
    "\n",
    "for iteration in range(n_iterations):\n",
    "    logits = X_train.dot(Theta)\n",
    "    Y_proba = softmax(logits)\n",
    "    xentropy_loss = -np.mean(np.sum(y_train_oh * np.log(Y_proba + epsilon), axis=1))\n",
    "    l2_loss = 1/2 * np.sum(np.square(Theta[1:]))\n",
    "    loss = xentropy_loss + alpha * l2_loss\n",
    "    error = Y_proba - y_train_oh\n",
    "    gradients = 1/m * X_train.T.dot(error) + np.r_[np.zeros([1, num_classes]), alpha * Theta[1:]]\n",
    "    new_Theta = Theta - eta * gradients # new variable so that the starting Theta is not lost\n",
    "        \n",
    "    # Evaluate on validation set\n",
    "    logits = X_valid.dot(new_Theta) \n",
    "    Y_proba = softmax(logits)\n",
    "    xentropy_loss = -np.mean(np.sum(y_valid_oh * np.log(Y_proba + epsilon), axis=1))\n",
    "    l2_loss = 1/2 * np.sum(np.square(new_Theta[1:]))\n",
    "    loss = xentropy_loss + alpha * l2_loss # regularised loss\n",
    "    \n",
    "    if iteration % 500 == 0:\n",
    "        print(iteration, loss)\n",
    "    if loss < best_loss:\n",
    "        best_loss = loss\n",
    "        # Can update Theta with the new_Theta since the loss is now the best\n",
    "        Theta = new_Theta\n",
    "    else:\n",
    "        # Don't update Theta to new_Theta since it has a greater loss and we want to stop\n",
    "        print(iteration - 1, best_loss)\n",
    "        print(iteration, loss, \"early stopping!\")\n",
    "        break"
   ]
  },
  {
   "cell_type": "code",
   "execution_count": 164,
   "metadata": {},
   "outputs": [
    {
     "data": {
      "text/plain": [
       "1.0"
      ]
     },
     "execution_count": 164,
     "metadata": {},
     "output_type": "execute_result"
    }
   ],
   "source": [
    "logits = X_valid.dot(Theta)\n",
    "Y_proba = softmax(logits)\n",
    "y_predict = np.argmax(Y_proba,axis=1)\n",
    "\n",
    "accuracy_score = np.mean(y_predict == y_valid)\n",
    "accuracy_score"
   ]
  },
  {
   "cell_type": "markdown",
   "metadata": {},
   "source": [
    "Model still has the same high accuracy but needed around half the epochs!"
   ]
  },
  {
   "cell_type": "markdown",
   "metadata": {},
   "source": [
    "## Plot Model Predictions"
   ]
  },
  {
   "cell_type": "code",
   "execution_count": 142,
   "metadata": {},
   "outputs": [
    {
     "name": "stdout",
     "output_type": "stream",
     "text": [
      "Petal Length: 1.0 - 6.9\n",
      "Petal Width: 0.1 - 2.5\n"
     ]
    }
   ],
   "source": [
    "# For this we want to sample points in the feature space\n",
    "# i.e. all combinations of x1,x2 (petal_length, petal_width)\n",
    "min_x1, min_x2 = X.min(axis=0)\n",
    "max_x1, max_x2 = X.max(axis=0)\n",
    "print(f'Petal Length: {min_x1} - {max_x1}')\n",
    "print(f'Petal Width: {min_x2} - {max_x2}')"
   ]
  },
  {
   "cell_type": "code",
   "execution_count": 165,
   "metadata": {},
   "outputs": [
    {
     "data": {
      "image/png": "[encoded data removed]",
      "text/plain": [
       "<Figure size 720x288 with 1 Axes>"
      ]
     },
     "metadata": {
      "needs_background": "light"
     },
     "output_type": "display_data"
    }
   ],
   "source": [
    "# Meshgrid is used to sample the x1, x2 values over this feature space (and a little bit more)\n",
    "x0, x1 = np.meshgrid(\n",
    "        np.linspace(0, 8, 500).reshape(-1, 1), # 500 points for petal length\n",
    "        np.linspace(0, 3.5, 200).reshape(-1, 1), # 200 points for petal width\n",
    "    )\n",
    "X_new = np.c_[x0.ravel(), x1.ravel()]\n",
    "\n",
    "# Add the bias term\n",
    "X_new_with_bias = np.c_[np.ones([len(X_new), 1]), X_new]\n",
    "\n",
    "logits = X_new_with_bias.dot(Theta)\n",
    "Y_proba = softmax(logits)\n",
    "y_predict = np.argmax(Y_proba, axis=1)\n",
    "\n",
    "zz1 = Y_proba[:, 1].reshape(x0.shape) # probability that the instance is in the Iris Versicolour class\n",
    "zz = y_predict.reshape(x0.shape)\n",
    "\n",
    "plt.figure(figsize=(10, 4))\n",
    "plt.plot(X[y==2, 0], X[y==2, 1], \"g^\", label=\"Iris virginica\")\n",
    "plt.plot(X[y==1, 0], X[y==1, 1], \"bs\", label=\"Iris versicolor\")\n",
    "plt.plot(X[y==0, 0], X[y==0, 1], \"yo\", label=\"Iris setosa\")\n",
    "\n",
    "from matplotlib.colors import ListedColormap\n",
    "custom_cmap = ListedColormap(['#fafab0','#9898ff','#a0faa0'])\n",
    "\n",
    "plt.contourf(x0, x1, zz, cmap=custom_cmap)\n",
    "contour = plt.contour(x0, x1, zz1, cmap=plt.cm.brg)\n",
    "plt.clabel(contour, inline=1, fontsize=12)\n",
    "plt.xlabel(\"Petal length\", fontsize=14)\n",
    "plt.ylabel(\"Petal width\", fontsize=14)\n",
    "plt.legend(loc=\"upper left\", fontsize=14)\n",
    "plt.axis([0, 7, 0, 3.5])\n",
    "plt.show()"
   ]
  },
  {
   "cell_type": "markdown",
   "metadata": {},
   "source": [
    "## Evaluate on Test Set"
   ]
  },
  {
   "cell_type": "code",
   "execution_count": 166,
   "metadata": {},
   "outputs": [
    {
     "data": {
      "text/plain": [
       "0.9333333333333333"
      ]
     },
     "execution_count": 166,
     "metadata": {},
     "output_type": "execute_result"
    }
   ],
   "source": [
    "logits = X_test.dot(Theta)\n",
    "Y_proba = softmax(logits)\n",
    "y_predict = np.argmax(Y_proba, axis=1)\n",
    "\n",
    "accuracy_score = np.mean(y_predict == y_test)\n",
    "accuracy_score"
   ]
  },
  {
   "cell_type": "markdown",
   "metadata": {},
   "source": [
    "Our perfect model turns out to have slight imperfections. This variability is likely due to the very small size of the dataset: depending on how you sample the training set, validation set and the test set, you can get quite different results. Try changing the random seed and running the code again a few times, you will see that the results will vary."
   ]
  },
  {
   "cell_type": "code",
   "execution_count": null,
   "metadata": {},
   "outputs": [],
   "source": []
  }
 ],
 "metadata": {
  "kernelspec": {
   "display_name": "Python 3",
   "language": "python",
   "name": "python3"
  },
  "language_info": {
   "codemirror_mode": {
    "name": "ipython",
    "version": 3
   },
   "file_extension": ".py",
   "mimetype": "text/x-python",
   "name": "python",
   "nbconvert_exporter": "python",
   "pygments_lexer": "ipython3",
   "version": "3.8.2"
  }
 },
 "nbformat": 4,
 "nbformat_minor": 4
}
